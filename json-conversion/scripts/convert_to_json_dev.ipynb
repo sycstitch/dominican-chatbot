{
 "cells": [
  {
   "cell_type": "code",
   "execution_count": 6,
   "id": "1db406e6",
   "metadata": {},
   "outputs": [],
   "source": [
    "import json\n",
    "import re # regex\n",
    "import os # build fild paths that work on any OS"
   ]
  },
  {
   "cell_type": "code",
   "execution_count": 7,
   "id": "4af485c6",
   "metadata": {},
   "outputs": [
    {
     "name": "stdout",
     "output_type": "stream",
     "text": [
      "Attempting to read from: /Users/willi.wonkah/_Development/dominican-chatbot/json-conversion/scripts/../vocab/domislang.txt\n",
      "\n",
      "--- File Preview (First 500 Characters) ---\n",
      "﻿# A\n",
      "1. Abimbao - This term describes someone who has just been beaten and has visible swelling as a result / beaten up.\n",
      "EX: \"Juan y Manuel pelearon, yo no sé por qué, pero Manuel ta abimbao.\"\n",
      "GS: \"Juan y Manuel pelearon, yo no sé por qué, pero Manuel está mal herido.\"\n",
      "EN: \"Juan and Manuel had a fight, I don't know why, but Manuel is beaten up.\"\n",
      "SYN: Golpeado / Mal herido\n",
      "ANT:-\n",
      "Usage: 8 / 10\n",
      "\n",
      "\n",
      "2. Abombao - Full (When you eat a lot) / Stuffed.\n",
      "EX: \"Me comí un pica pollo y ahora toy abombao.\"\n",
      "GS: \n",
      "\n",
      "-------------------------------------------\n",
      "\n",
      "✅ Success! File read correctly. We are ready for Step 2.\n"
     ]
    }
   ],
   "source": [
    "# --- Step 1: Read the File and Confirm Path ---\n",
    "\n",
    "try:\n",
    "    current_directory = os.getcwd()\n",
    "    file_path = os.path.join(current_directory, '..', 'vocab', 'domislang.txt')\n",
    "\n",
    "    print(f\"Attempting to read from: {file_path}\\n\")\n",
    "\n",
    "    # Use 'with open' to safely open the file.\n",
    "    # Specify encoding='utf-8' to handle special characters correctly.\n",
    "    with open(file_path, 'r', encoding='utf-8') as f:\n",
    "        # Read only the first 500 characters to test readability.\n",
    "        content_preview = f.read(500)\n",
    "\n",
    "        print(\"--- File Preview (First 500 Characters) ---\")\n",
    "        print(content_preview)\n",
    "        print(\"\\n-------------------------------------------\")\n",
    "        print(\"\\n✅ Success! File read correctly. We are ready for Step 2.\")\n",
    "\n",
    "except FileNotFoundError:\n",
    "    print(\"❌ ERROR: File not found.\")\n",
    "    print(f\"I looked for the file at this path: {file_path}\")\n",
    "    print(\"Please make sure your notebook is in the correct 'scripts' directory and the file exists.\")"
   ]
  },
  {
   "cell_type": "code",
   "execution_count": null,
   "id": "71bea278",
   "metadata": {},
   "outputs": [],
   "source": []
  }
 ],
 "metadata": {
  "kernelspec": {
   "display_name": ".venv",
   "language": "python",
   "name": "python3"
  },
  "language_info": {
   "codemirror_mode": {
    "name": "ipython",
    "version": 3
   },
   "file_extension": ".py",
   "mimetype": "text/x-python",
   "name": "python",
   "nbconvert_exporter": "python",
   "pygments_lexer": "ipython3",
   "version": "3.13.5"
  }
 },
 "nbformat": 4,
 "nbformat_minor": 5
}
