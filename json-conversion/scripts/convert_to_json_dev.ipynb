{
 "cells": [
  {
   "cell_type": "code",
   "execution_count": 6,
   "id": "1db406e6",
   "metadata": {},
   "outputs": [],
   "source": [
    "import json\n",
    "import re # regex\n",
    "import os # build fild paths that work on any OS"
   ]
  },
  {
   "cell_type": "code",
   "execution_count": null,
   "id": "4af485c6",
   "metadata": {},
   "outputs": [
    {
     "name": "stdout",
     "output_type": "stream",
     "text": [
      "Attempting to read from: /Users/willi.wonkah/_Development/dominican-chatbot/json-conversion/scripts/../vocab/domislang.txt\n",
      "\n",
      "\u001b[92m[✓] Success!\u001b[0m\n",
      "\n",
      "--- File Preview (First 500 Characters) ---\n",
      "﻿# A\n",
      "1. Abimbao - This term describes someone who has just been beaten and has visible swelling as a result / beaten up.\n",
      "EX: \"Juan y Manuel pelearon, yo no sé por qué, pero Manuel ta abimbao.\"\n",
      "GS: \"Juan y Manuel pelearon, yo no sé por qué, pero Manuel está mal herido.\"\n",
      "EN: \"Juan and Manuel had a fight, I don't know why, but Manuel is beaten up.\"\n",
      "SYN: Golpeado / Mal herido\n",
      "ANT:-\n",
      "Usage: 8 / 10\n",
      "\n",
      "\n",
      "2. Abombao - Full (When you eat a lot) / Stuffed.\n",
      "EX: \"Me comí un pica pollo y ahora toy abombao.\"\n",
      "GS: \n"
     ]
    }
   ],
   "source": [
    "# --- Step 1: Read the File and Confirm Path ---\n",
    "\n",
    "try:\n",
    "    current_directory = os.getcwd()\n",
    "    file_path = os.path.join(current_directory, '..', 'vocab', 'domislang.txt')\n",
    "\n",
    "    print(f\"Attempting to read from: {file_path}\\n\")\n",
    "\n",
    "    # Use 'with open' to safely open the file.\n",
    "    # Specify encoding='utf-8' to handle special characters correctly.\n",
    "    with open(file_path, 'r', encoding='utf-8') as f:\n",
    "        # Read only the first 500 characters to test readability.\n",
    "        content_preview = f.read(500)\n",
    "\n",
    "        print(\"\\033[92m[✓] Success!\\033[0m\")  # Green text\")\n",
    "        print(\"\\n--- File Preview (First 500 Characters) ---\")\n",
    "        print(content_preview)\n",
    "\n",
    "except FileNotFoundError:\n",
    "    print(\"\\033[91m❌ ERROR: File not found.\\033[0m\")\n",
    "    print(f\"I looked for the file at this path: {file_path}\")\n",
    "    print(\"\\n Check: \" \\\n",
    "    \"\\n - File existence\" \\\n",
    "    \"\\n - File name + extension\" \\\n",
    "    \"\\n - Path\")"
   ]
  },
  {
   "cell_type": "code",
   "execution_count": 32,
   "id": "71bea278",
   "metadata": {},
   "outputs": [
    {
     "name": "stdout",
     "output_type": "stream",
     "text": [
      "✅ Success! Debug log created at: /Users/willi.wonkah/_Development/dominican-chatbot/json-conversion/scripts/output/debug_output.txt\n"
     ]
    }
   ],
   "source": [
    "# --- Step 2: Split the File into Individual Entries ---\n",
    "# check: 650 terms instead of the expected 645.\n",
    "\n",
    "# debug - create a list to hold the debug output\n",
    "debug_log = []\n",
    "raw_entries = []\n",
    "current_entry = []\n",
    "\n",
    "try:\n",
    "    current_directory = os.getcwd()\n",
    "    file_path = os.path.join(current_directory, '..', 'vocab', 'domislang.txt')\n",
    "    # debug - declare output file\n",
    "    debug_output_file = os.path.join(current_directory, 'output', 'debug_output.txt')\n",
    "\n",
    "    with open(file_path, 'r', encoding='utf-8-sig') as f:\n",
    "        all_lines = f.readlines()\n",
    "\n",
    "    # Implements the line-by-line chunking algorithm\n",
    "    for line in all_lines:\n",
    "        # debug - announcement\n",
    "        debug_log.append(f\"Checking line: '{line.strip()}'\")\n",
    "\n",
    "        if re.search(r'^\\d+\\.\\s', line):\n",
    "            # debug: match!\n",
    "            debug_log.append(f\"  └─> Matched as a new entry start.\")\n",
    "\n",
    "            if current_entry:\n",
    "                raw_entries.append(\"\\n\".join(current_entry))\n",
    "            current_entry = [line.strip()]\n",
    "        else:\n",
    "            if line.strip().startswith('#') or not line.strip():\n",
    "                continue\n",
    "            else:\n",
    "                current_entry.append(line.strip())\n",
    "\n",
    "    if current_entry:\n",
    "        raw_entries.append(\"\\n\".join(current_entry))\n",
    "\n",
    "    # --- Verification ---\n",
    "    #print(f\"\\033[92m[✓] Success! The file was split into {len(raw_entries)} entries.\\033[0m\\n\")\n",
    "\n",
    "    # 3. After the loop, write the entire log to a file\n",
    "    try:\n",
    "        with open(debug_output_file, \"w\", encoding=\"utf-8\") as f:\n",
    "            f.write(\"\\n\".join(debug_log))\n",
    "        print(f\"✅ Success! Debug log created at: {debug_output_file}\")\n",
    "    except Exception as e:\n",
    "        print(f\"❌ Error writing debug file: {e}\")\n",
    "\n",
    "    # print(\"--- Inspecting First Entry [0] ---\")\n",
    "    # print(raw_entries[0])\n",
    "    # print(\"\\n----------------------------------\\n\")\n",
    "\n",
    "    # print(\"--- Inspecting Second Entry [1] ---\")\n",
    "    # print(raw_entries[1])\n",
    "    # print(\"\\n-----------------------------------\")\n",
    "\n",
    "\n",
    "except FileNotFoundError:\n",
    "    print(f\"\\033[91m❌ ERROR: File not found at {file_path}\\033[0m\")\n",
    "except IndexError:\n",
    "    print(\"\\033[91m❌ ERROR: Could not inspect the entries.\\033[0m\")\n",
    "    print(f\"It seems only {len(raw_entries)} entries were found. The file might be smaller than expected.\")"
   ]
  }
 ],
 "metadata": {
  "kernelspec": {
   "display_name": ".venv",
   "language": "python",
   "name": "python3"
  },
  "language_info": {
   "codemirror_mode": {
    "name": "ipython",
    "version": 3
   },
   "file_extension": ".py",
   "mimetype": "text/x-python",
   "name": "python",
   "nbconvert_exporter": "python",
   "pygments_lexer": "ipython3",
   "version": "3.13.5"
  }
 },
 "nbformat": 4,
 "nbformat_minor": 5
}
