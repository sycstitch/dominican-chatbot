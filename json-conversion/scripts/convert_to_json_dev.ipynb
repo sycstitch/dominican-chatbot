{
 "cells": [
  {
   "cell_type": "code",
   "execution_count": 5,
   "id": "1db406e6",
   "metadata": {},
   "outputs": [],
   "source": [
    "import json\n",
    "import re # regex\n",
    "import os # build fild paths that work on any OS"
   ]
  },
  {
   "cell_type": "code",
   "execution_count": null,
   "id": "4af485c6",
   "metadata": {},
   "outputs": [],
   "source": []
  }
 ],
 "metadata": {
  "kernelspec": {
   "display_name": ".venv",
   "language": "python",
   "name": "python3"
  },
  "language_info": {
   "codemirror_mode": {
    "name": "ipython",
    "version": 3
   },
   "file_extension": ".py",
   "mimetype": "text/x-python",
   "name": "python",
   "nbconvert_exporter": "python",
   "pygments_lexer": "ipython3",
   "version": "3.13.5"
  }
 },
 "nbformat": 4,
 "nbformat_minor": 5
}
